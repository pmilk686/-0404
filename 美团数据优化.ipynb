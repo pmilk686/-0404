{
 "cells": [
  {
   "cell_type": "markdown",
   "id": "c09d8a77-1ede-4219-b362-23dea1991b7d",
   "metadata": {},
   "source": [
    "### 分析2月份美团的数据，需要对大类名称进行整理规整，然后列出其单个成本、菜品收入、收入占比、销售占比 ###\n"
   ]
  },
  {
   "cell_type": "code",
   "execution_count": 1,
   "id": "cdbe941a-9d03-4e86-9668-3ccee83879c9",
   "metadata": {},
   "outputs": [],
   "source": [
    " import pandas as pd\n",
    "import numpy as np\n",
    "pd.set_option(\"display.max_columns\",None)\n",
    "pd.set_option(\"display.max_rows\",None)"
   ]
  },
  {
   "cell_type": "code",
   "execution_count": 2,
   "id": "235eb467-78a9-421f-83dd-7a02103652ea",
   "metadata": {},
   "outputs": [
    {
     "ename": "UnicodeDecodeError",
     "evalue": "'utf-8' codec can't decode byte 0xd0 in position 0: invalid continuation byte",
     "output_type": "error",
     "traceback": [
      "\u001b[1;31m---------------------------------------------------------------------------\u001b[0m",
      "\u001b[1;31mUnicodeDecodeError\u001b[0m                        Traceback (most recent call last)",
      "Cell \u001b[1;32mIn[2], line 1\u001b[0m\n\u001b[1;32m----> 1\u001b[0m original_data \u001b[38;5;241m=\u001b[39m \u001b[43mpd\u001b[49m\u001b[38;5;241;43m.\u001b[39;49m\u001b[43mread_csv\u001b[49m\u001b[43m(\u001b[49m\u001b[38;5;124;43m\"\u001b[39;49m\u001b[38;5;124;43mC:\u001b[39;49m\u001b[38;5;130;43;01m\\\\\u001b[39;49;00m\u001b[38;5;124;43mUsers\u001b[39;49m\u001b[38;5;130;43;01m\\\\\u001b[39;49;00m\u001b[38;5;124;43m86130\u001b[39;49m\u001b[38;5;130;43;01m\\\\\u001b[39;49;00m\u001b[38;5;124;43mDesktop\u001b[39;49m\u001b[38;5;130;43;01m\\\\\u001b[39;49;00m\u001b[38;5;124;43mmeituan_data\u001b[39;49m\u001b[38;5;130;43;01m\\\\\u001b[39;49;00m\u001b[38;5;124;43m美团_3月.csv\u001b[39;49m\u001b[38;5;124;43m\"\u001b[39;49m\u001b[43m)\u001b[49m\n",
      "File \u001b[1;32m~\\AppData\\Local\\Programs\\Python\\Python312\\Lib\\site-packages\\pandas\\io\\parsers\\readers.py:1026\u001b[0m, in \u001b[0;36mread_csv\u001b[1;34m(filepath_or_buffer, sep, delimiter, header, names, index_col, usecols, dtype, engine, converters, true_values, false_values, skipinitialspace, skiprows, skipfooter, nrows, na_values, keep_default_na, na_filter, verbose, skip_blank_lines, parse_dates, infer_datetime_format, keep_date_col, date_parser, date_format, dayfirst, cache_dates, iterator, chunksize, compression, thousands, decimal, lineterminator, quotechar, quoting, doublequote, escapechar, comment, encoding, encoding_errors, dialect, on_bad_lines, delim_whitespace, low_memory, memory_map, float_precision, storage_options, dtype_backend)\u001b[0m\n\u001b[0;32m   1013\u001b[0m kwds_defaults \u001b[38;5;241m=\u001b[39m _refine_defaults_read(\n\u001b[0;32m   1014\u001b[0m     dialect,\n\u001b[0;32m   1015\u001b[0m     delimiter,\n\u001b[1;32m   (...)\u001b[0m\n\u001b[0;32m   1022\u001b[0m     dtype_backend\u001b[38;5;241m=\u001b[39mdtype_backend,\n\u001b[0;32m   1023\u001b[0m )\n\u001b[0;32m   1024\u001b[0m kwds\u001b[38;5;241m.\u001b[39mupdate(kwds_defaults)\n\u001b[1;32m-> 1026\u001b[0m \u001b[38;5;28;01mreturn\u001b[39;00m \u001b[43m_read\u001b[49m\u001b[43m(\u001b[49m\u001b[43mfilepath_or_buffer\u001b[49m\u001b[43m,\u001b[49m\u001b[43m \u001b[49m\u001b[43mkwds\u001b[49m\u001b[43m)\u001b[49m\n",
      "File \u001b[1;32m~\\AppData\\Local\\Programs\\Python\\Python312\\Lib\\site-packages\\pandas\\io\\parsers\\readers.py:620\u001b[0m, in \u001b[0;36m_read\u001b[1;34m(filepath_or_buffer, kwds)\u001b[0m\n\u001b[0;32m    617\u001b[0m _validate_names(kwds\u001b[38;5;241m.\u001b[39mget(\u001b[38;5;124m\"\u001b[39m\u001b[38;5;124mnames\u001b[39m\u001b[38;5;124m\"\u001b[39m, \u001b[38;5;28;01mNone\u001b[39;00m))\n\u001b[0;32m    619\u001b[0m \u001b[38;5;66;03m# Create the parser.\u001b[39;00m\n\u001b[1;32m--> 620\u001b[0m parser \u001b[38;5;241m=\u001b[39m \u001b[43mTextFileReader\u001b[49m\u001b[43m(\u001b[49m\u001b[43mfilepath_or_buffer\u001b[49m\u001b[43m,\u001b[49m\u001b[43m \u001b[49m\u001b[38;5;241;43m*\u001b[39;49m\u001b[38;5;241;43m*\u001b[39;49m\u001b[43mkwds\u001b[49m\u001b[43m)\u001b[49m\n\u001b[0;32m    622\u001b[0m \u001b[38;5;28;01mif\u001b[39;00m chunksize \u001b[38;5;129;01mor\u001b[39;00m iterator:\n\u001b[0;32m    623\u001b[0m     \u001b[38;5;28;01mreturn\u001b[39;00m parser\n",
      "File \u001b[1;32m~\\AppData\\Local\\Programs\\Python\\Python312\\Lib\\site-packages\\pandas\\io\\parsers\\readers.py:1620\u001b[0m, in \u001b[0;36mTextFileReader.__init__\u001b[1;34m(self, f, engine, **kwds)\u001b[0m\n\u001b[0;32m   1617\u001b[0m     \u001b[38;5;28mself\u001b[39m\u001b[38;5;241m.\u001b[39moptions[\u001b[38;5;124m\"\u001b[39m\u001b[38;5;124mhas_index_names\u001b[39m\u001b[38;5;124m\"\u001b[39m] \u001b[38;5;241m=\u001b[39m kwds[\u001b[38;5;124m\"\u001b[39m\u001b[38;5;124mhas_index_names\u001b[39m\u001b[38;5;124m\"\u001b[39m]\n\u001b[0;32m   1619\u001b[0m \u001b[38;5;28mself\u001b[39m\u001b[38;5;241m.\u001b[39mhandles: IOHandles \u001b[38;5;241m|\u001b[39m \u001b[38;5;28;01mNone\u001b[39;00m \u001b[38;5;241m=\u001b[39m \u001b[38;5;28;01mNone\u001b[39;00m\n\u001b[1;32m-> 1620\u001b[0m \u001b[38;5;28mself\u001b[39m\u001b[38;5;241m.\u001b[39m_engine \u001b[38;5;241m=\u001b[39m \u001b[38;5;28;43mself\u001b[39;49m\u001b[38;5;241;43m.\u001b[39;49m\u001b[43m_make_engine\u001b[49m\u001b[43m(\u001b[49m\u001b[43mf\u001b[49m\u001b[43m,\u001b[49m\u001b[43m \u001b[49m\u001b[38;5;28;43mself\u001b[39;49m\u001b[38;5;241;43m.\u001b[39;49m\u001b[43mengine\u001b[49m\u001b[43m)\u001b[49m\n",
      "File \u001b[1;32m~\\AppData\\Local\\Programs\\Python\\Python312\\Lib\\site-packages\\pandas\\io\\parsers\\readers.py:1898\u001b[0m, in \u001b[0;36mTextFileReader._make_engine\u001b[1;34m(self, f, engine)\u001b[0m\n\u001b[0;32m   1895\u001b[0m     \u001b[38;5;28;01mraise\u001b[39;00m \u001b[38;5;167;01mValueError\u001b[39;00m(msg)\n\u001b[0;32m   1897\u001b[0m \u001b[38;5;28;01mtry\u001b[39;00m:\n\u001b[1;32m-> 1898\u001b[0m     \u001b[38;5;28;01mreturn\u001b[39;00m \u001b[43mmapping\u001b[49m\u001b[43m[\u001b[49m\u001b[43mengine\u001b[49m\u001b[43m]\u001b[49m\u001b[43m(\u001b[49m\u001b[43mf\u001b[49m\u001b[43m,\u001b[49m\u001b[43m \u001b[49m\u001b[38;5;241;43m*\u001b[39;49m\u001b[38;5;241;43m*\u001b[39;49m\u001b[38;5;28;43mself\u001b[39;49m\u001b[38;5;241;43m.\u001b[39;49m\u001b[43moptions\u001b[49m\u001b[43m)\u001b[49m\n\u001b[0;32m   1899\u001b[0m \u001b[38;5;28;01mexcept\u001b[39;00m \u001b[38;5;167;01mException\u001b[39;00m:\n\u001b[0;32m   1900\u001b[0m     \u001b[38;5;28;01mif\u001b[39;00m \u001b[38;5;28mself\u001b[39m\u001b[38;5;241m.\u001b[39mhandles \u001b[38;5;129;01mis\u001b[39;00m \u001b[38;5;129;01mnot\u001b[39;00m \u001b[38;5;28;01mNone\u001b[39;00m:\n",
      "File \u001b[1;32m~\\AppData\\Local\\Programs\\Python\\Python312\\Lib\\site-packages\\pandas\\io\\parsers\\c_parser_wrapper.py:93\u001b[0m, in \u001b[0;36mCParserWrapper.__init__\u001b[1;34m(self, src, **kwds)\u001b[0m\n\u001b[0;32m     90\u001b[0m \u001b[38;5;28;01mif\u001b[39;00m kwds[\u001b[38;5;124m\"\u001b[39m\u001b[38;5;124mdtype_backend\u001b[39m\u001b[38;5;124m\"\u001b[39m] \u001b[38;5;241m==\u001b[39m \u001b[38;5;124m\"\u001b[39m\u001b[38;5;124mpyarrow\u001b[39m\u001b[38;5;124m\"\u001b[39m:\n\u001b[0;32m     91\u001b[0m     \u001b[38;5;66;03m# Fail here loudly instead of in cython after reading\u001b[39;00m\n\u001b[0;32m     92\u001b[0m     import_optional_dependency(\u001b[38;5;124m\"\u001b[39m\u001b[38;5;124mpyarrow\u001b[39m\u001b[38;5;124m\"\u001b[39m)\n\u001b[1;32m---> 93\u001b[0m \u001b[38;5;28mself\u001b[39m\u001b[38;5;241m.\u001b[39m_reader \u001b[38;5;241m=\u001b[39m \u001b[43mparsers\u001b[49m\u001b[38;5;241;43m.\u001b[39;49m\u001b[43mTextReader\u001b[49m\u001b[43m(\u001b[49m\u001b[43msrc\u001b[49m\u001b[43m,\u001b[49m\u001b[43m \u001b[49m\u001b[38;5;241;43m*\u001b[39;49m\u001b[38;5;241;43m*\u001b[39;49m\u001b[43mkwds\u001b[49m\u001b[43m)\u001b[49m\n\u001b[0;32m     95\u001b[0m \u001b[38;5;28mself\u001b[39m\u001b[38;5;241m.\u001b[39munnamed_cols \u001b[38;5;241m=\u001b[39m \u001b[38;5;28mself\u001b[39m\u001b[38;5;241m.\u001b[39m_reader\u001b[38;5;241m.\u001b[39munnamed_cols\n\u001b[0;32m     97\u001b[0m \u001b[38;5;66;03m# error: Cannot determine type of 'names'\u001b[39;00m\n",
      "File \u001b[1;32mparsers.pyx:574\u001b[0m, in \u001b[0;36mpandas._libs.parsers.TextReader.__cinit__\u001b[1;34m()\u001b[0m\n",
      "File \u001b[1;32mparsers.pyx:663\u001b[0m, in \u001b[0;36mpandas._libs.parsers.TextReader._get_header\u001b[1;34m()\u001b[0m\n",
      "File \u001b[1;32mparsers.pyx:874\u001b[0m, in \u001b[0;36mpandas._libs.parsers.TextReader._tokenize_rows\u001b[1;34m()\u001b[0m\n",
      "File \u001b[1;32mparsers.pyx:891\u001b[0m, in \u001b[0;36mpandas._libs.parsers.TextReader._check_tokenize_status\u001b[1;34m()\u001b[0m\n",
      "File \u001b[1;32mparsers.pyx:2053\u001b[0m, in \u001b[0;36mpandas._libs.parsers.raise_parser_error\u001b[1;34m()\u001b[0m\n",
      "File \u001b[1;32m<frozen codecs>:322\u001b[0m, in \u001b[0;36mdecode\u001b[1;34m(self, input, final)\u001b[0m\n",
      "\u001b[1;31mUnicodeDecodeError\u001b[0m: 'utf-8' codec can't decode byte 0xd0 in position 0: invalid continuation byte"
     ]
    }
   ],
   "source": [
    "original_data = pd.read_csv(\"C:\\\\Users\\\\86130\\\\Desktop\\\\meituan_data\\\\美团_3月.csv\",encoding='ANSI')\n"
   ]
  },
  {
   "cell_type": "code",
   "execution_count": null,
   "id": "632d1dc1-9314-4714-914a-e8f596825f46",
   "metadata": {},
   "outputs": [],
   "source": [
    "original_data.head()"
   ]
  },
  {
   "cell_type": "markdown",
   "id": "ff807c78-06cd-4397-9a88-c86a238fe1d5",
   "metadata": {},
   "source": [
    "## 评估数据 ##"
   ]
  },
  {
   "cell_type": "code",
   "execution_count": null,
   "id": "8a8f4a68-0898-4361-9aab-4a9c822ed359",
   "metadata": {},
   "outputs": [],
   "source": [
    "original_data.sample(10)"
   ]
  },
  {
   "attachments": {},
   "cell_type": "markdown",
   "id": "c06838bf-672f-4b76-b44d-3f85ff13bfbd",
   "metadata": {},
   "source": [
    "### 分析表格存在的问题： ###\n",
    "### 1.序号列、unnamed列、0号序列可以去除 ###"
   ]
  },
  {
   "cell_type": "code",
   "execution_count": null,
   "id": "95cdcb9c-d7b1-4639-a266-0936835a71b8",
   "metadata": {},
   "outputs": [],
   "source": [
    "original_data.info()"
   ]
  },
  {
   "cell_type": "markdown",
   "id": "99fb708f-e1aa-48d6-bdd5-201e75e5857e",
   "metadata": {},
   "source": [
    "### 由此暂时可以得出需要删除的列：中类名称、菜品标签、服务费分摊收入、unnamed、商品销售千次、销售数量占比 ###\n",
    "### 并且需要用到的数据当中暂无缺失值 ###"
   ]
  },
  {
   "cell_type": "code",
   "execution_count": null,
   "id": "045b9ccf-aa68-4971-bd43-199f8a60f734",
   "metadata": {},
   "outputs": [],
   "source": [
    "original_data[\"菜品名称\"].value_counts()"
   ]
  },
  {
   "cell_type": "markdown",
   "id": "30f591c4-942f-4816-b13c-acdba67fa848",
   "metadata": {},
   "source": [
    "### 由此可以评估出存在重复的产品名称，需要进行整合：燕麦奶&燕麦奶【拒绝乳糖！】、鸳鸯拿铁&鸳鸯拿铁【茶与啡的故事】、美式咖啡【醒脑提神】&美式咖啡【仅套餐】&美式【醒脑提神】&美式咖啡（单品规格）【醒脑提神】     、【特惠拿铁+3.99多一杯】双杯拿铁组合！&【特惠3.99多一杯】双杯拿铁组合&【3.99多一杯】双倍暖心拿铁组合！ 、【1.99多一杯】双倍醒神美式组合&【特惠1.99多一杯】双杯美式组合！&美式咖啡（提神醒脑）500ml 、广式点心+咖啡【特色广式搭配！】、广式下午茶套餐 、广式点心套餐【特色广式点心】、收臧福利！珍珠糯米鸡  等 ###"
   ]
  },
  {
   "cell_type": "markdown",
   "id": "3b4143e5-2f4c-4645-ac11-c8c1bea1639b",
   "metadata": {},
   "source": [
    "###### 需要就行清理的表格数据：\n",
    " - 合并重复项目\n",
    " - 删除无关序列\n",
    "   "
   ]
  },
  {
   "cell_type": "markdown",
   "id": "75be8771-6a43-4724-902d-574af02f13f0",
   "metadata": {},
   "source": [
    "###### 删除无关序列\n",
    "\n"
   ]
  },
  {
   "cell_type": "code",
   "execution_count": null,
   "id": "0ff2b3d6-73fc-4675-8c71-e497f5097a5e",
   "metadata": {},
   "outputs": [],
   "source": [
    "cleaned_data = original_data.copy()\n",
    "cleaned_data.head()"
   ]
  },
  {
   "cell_type": "code",
   "execution_count": null,
   "id": "e013a369-e21e-4011-9809-de960e8ffa46",
   "metadata": {},
   "outputs": [],
   "source": [
    "cleaned_data.drop([\"中类名称/编码\",\"菜品标签\",\"服务费分摊收入\",\"Unnamed: 14\",\"Unnamed: 15\",\"Unnamed: 16\",\"商品销售千次\",\"销售数量占比\"],axis = 1,inplace = True)\n",
    "cleaned_data.drop([0],inplace = True)\n",
    "cleaned_data.drop([1],axis=0,inplace = True)\n",
    "cleaned_data"
   ]
  },
  {
   "cell_type": "markdown",
   "id": "5590d800-08da-45a8-a574-3ef8e35f2a6d",
   "metadata": {},
   "source": [
    "##### 把“-”替换成NaN，和菜品平均销售价格"
   ]
  },
  {
   "cell_type": "code",
   "execution_count": null,
   "id": "9c41049b-3889-4bb5-a53f-f9327346cf0b",
   "metadata": {},
   "outputs": [],
   "source": [
    "cleaned_data[\"单个成本/元\"] = cleaned_data[\"单个成本/元\"] = cleaned_data[\"单个成本/元\"].replace({\"-\" : \"NaN\"})\n",
    "cleaned_data\n"
   ]
  },
  {
   "cell_type": "markdown",
   "id": "4f614ad4-3018-4efc-abd1-7d4b6a94c66d",
   "metadata": {},
   "source": [
    "##### 逐项更正类似品类名称"
   ]
  },
  {
   "cell_type": "code",
   "execution_count": null,
   "id": "330b02f5-c229-499a-b328-715a77596be0",
   "metadata": {},
   "outputs": [],
   "source": [
    "cleaned_data[\"菜品名称\"] = cleaned_data[\"菜品名称\"].replace({\"燕麦奶【拒绝乳糖！】\" : \"燕麦奶\"})\n",
    "print(len(cleaned_data[cleaned_data[\"菜品名称\"] == \"燕麦奶【拒绝乳糖！】\"]))"
   ]
  },
  {
   "cell_type": "code",
   "execution_count": null,
   "id": "4704b13c-b0c3-4d4e-ac8d-42b787920090",
   "metadata": {},
   "outputs": [],
   "source": [
    "cleaned_data[\"菜品名称\"] = cleaned_data[\"菜品名称\"].replace({\"鸳鸯拿铁【茶与啡的故事】\" : \"鸳鸯拿铁\"})\n",
    "print(len(cleaned_data[cleaned_data[\"菜品名称\"] == \"鸳鸯拿铁【茶与啡的故事】\"]))"
   ]
  },
  {
   "cell_type": "code",
   "execution_count": null,
   "id": "4ac1071e-9a55-4ba1-ae36-250f3cf58331",
   "metadata": {},
   "outputs": [],
   "source": [
    "cleaned_data[\"菜品名称\"] = cleaned_data[\"菜品名称\"].replace({\"美式咖啡【仅套餐】\" : \"美式咖啡【醒脑提神】\",\"美式【醒脑提神】\":\"美式咖啡【醒脑提神】\",\"美式咖啡（单品规格）【醒脑提神】\":\"美式咖啡【醒脑提神】\"})\n",
    "print(len(cleaned_data[cleaned_data[\"菜品名称\"] == \"美式咖啡【仅套餐】\"]))\n",
    "print(len(cleaned_data[cleaned_data[\"菜品名称\"] == \"美式【醒脑提神】\"]))\n",
    "print(len(cleaned_data[cleaned_data[\"菜品名称\"] == \"美式咖啡（单品规格）【醒脑提神】\"]))\n"
   ]
  },
  {
   "cell_type": "code",
   "execution_count": null,
   "id": "72c86293-f411-4df3-b784-971a9d6bf7c9",
   "metadata": {},
   "outputs": [],
   "source": [
    "cleaned_data[\"菜品名称\"] = cleaned_data[\"菜品名称\"].replace({\"【特惠3.99多一杯】双杯拿铁组合\" : \"【特惠拿铁+3.99多一杯】双杯拿铁组合！\",\"【3.99多一杯】双倍暖心拿铁组合！\" : \"【特惠拿铁+3.99多一杯】双杯拿铁组合！\"})\n",
    "print(len(cleaned_data[cleaned_data[\"菜品名称\"] == \"【3.99多一杯】双倍暖心拿铁组合！\"]))\n",
    "print(len(cleaned_data[cleaned_data[\"菜品名称\"] == \"【特惠3.99多一杯】双杯拿铁组合\"]))"
   ]
  },
  {
   "cell_type": "code",
   "execution_count": null,
   "id": "49886751-e4e3-42d7-827d-c2546b52ea85",
   "metadata": {},
   "outputs": [],
   "source": [
    "cleaned_data[\"菜品名称\"] = cleaned_data[\"菜品名称\"].replace({\"【特惠1.99多一杯】双杯美式组合！\" : \"【1.99多一杯】双倍醒神美式组合\",\"美式咖啡（提神醒脑）500ml\" : \"美式咖啡【醒脑提神】\"})\n",
    "print(len(cleaned_data[cleaned_data[\"菜品名称\"] == \"【特惠1.99多一杯】双杯美式组合！\"]))\n",
    "print(len(cleaned_data[cleaned_data[\"菜品名称\"] == \"美式咖啡（提神醒脑）500ml\"]))"
   ]
  },
  {
   "cell_type": "code",
   "execution_count": null,
   "id": "da8cc245-ebf2-49d5-b402-c060d1ddfa62",
   "metadata": {},
   "outputs": [],
   "source": [
    "cleaned_data[\"菜品名称\"] = cleaned_data[\"菜品名称\"].replace({\"广式点心+咖啡【特色广式搭配！】\" : \"广式下午茶套餐\",\"广式点心套餐【特色广式点心】\" : \"广式下午茶套餐\"})\n",
    "print(len(cleaned_data[cleaned_data[\"菜品名称\"] == \"广式点心套餐【特色广式点心】\"]))\n",
    "print(len(cleaned_data[cleaned_data[\"菜品名称\"] == \"广式点心+咖啡【特色广式搭配！】\"]))"
   ]
  },
  {
   "cell_type": "markdown",
   "id": "d830fe7a-1029-4c14-b806-3deb687389ae",
   "metadata": {},
   "source": [
    "##### 下一步是检查类似元素是否替换完成"
   ]
  },
  {
   "cell_type": "code",
   "execution_count": null,
   "id": "28188520-67ca-4b9b-aca3-40d038947dd1",
   "metadata": {},
   "outputs": [],
   "source": [
    "cleaned_data[\"菜品名称\"].value_counts()"
   ]
  },
  {
   "cell_type": "markdown",
   "id": "786b8ff1-5622-4c16-9a73-30715b3266a1",
   "metadata": {},
   "source": [
    "#### 检查过后还存在类似项目：\n",
    "- 大红袍奶茶&大红袍奶茶【醇厚甜香】& 大红袍红茶拿铁&大红袍拿铁【醇厚甜香】&大红袍奶茶（茶香四溢）400ml\n",
    "- 牛奶【健康必备！】&牛奶&全脂牛奶【健康必备！】 \n",
    "- 热橙美式【满口维C】&热橙美式\n",
    "- 点新客收藏0.1r送挂耳包&新客收藏0.1r送挂耳包\n",
    "- 拿铁咖啡（点开有更多选择哦~） & 意式拿铁咖啡【丝滑浓郁】&意式拿铁咖啡【点开有更多选择！】&拿铁&拿铁【丝滑浓郁】"
   ]
  },
  {
   "cell_type": "code",
   "execution_count": null,
   "id": "95c3e689-2e9d-4636-b3d9-961079973c73",
   "metadata": {},
   "outputs": [],
   "source": [
    "cleaned_data[\"菜品名称\"] = cleaned_data[\"菜品名称\"].replace({\"大红袍奶茶【醇厚甜香】\" : \"大红袍奶茶\",\"大红袍红茶拿铁\" : \"大红袍奶茶\",\"大红袍拿铁【醇厚甜香】\" : \"大红袍奶茶\",\"大红袍奶茶（茶香四溢）400ml\" : \"大红袍奶茶\"})\n",
    "print(len(cleaned_data[cleaned_data[\"菜品名称\"] == \"大红袍奶茶【醇厚甜香】\"]))\n",
    "print(len(cleaned_data[cleaned_data[\"菜品名称\"] == \"大红袍红茶拿铁\"]))\n",
    "print(len(cleaned_data[cleaned_data[\"菜品名称\"] == \"大红袍拿铁【醇厚甜香】\"]))\n",
    "print(len(cleaned_data[cleaned_data[\"菜品名称\"] == \"大红袍奶茶（茶香四溢）400ml\"]))"
   ]
  },
  {
   "cell_type": "code",
   "execution_count": null,
   "id": "194375ae-f904-4e6f-a136-5ba5451a5bb6",
   "metadata": {},
   "outputs": [],
   "source": [
    "cleaned_data[\"菜品名称\"] = cleaned_data[\"菜品名称\"].replace({\"牛奶\" : \"牛奶【健康必备！】\",\"全脂牛奶【健康必备！】\" : \"牛奶【健康必备！】\"})\n",
    "print(len(cleaned_data[cleaned_data[\"菜品名称\"] == \"牛奶\"]))\n",
    "print(len(cleaned_data[cleaned_data[\"菜品名称\"] == \"全脂牛奶【健康必备！】\"]))\n"
   ]
  },
  {
   "cell_type": "code",
   "execution_count": null,
   "id": "027c070f-884c-43e3-9cd2-f9974ba4ac70",
   "metadata": {},
   "outputs": [],
   "source": [
    "cleaned_data[\"菜品名称\"] = cleaned_data[\"菜品名称\"].replace({\"牛奶\" : \"牛奶【健康必备！】\",\"全脂牛奶【健康必备！】\" : \"牛奶【健康必备！】\"})\n",
    "print(len(cleaned_data[cleaned_data[\"菜品名称\"] == \"牛奶\"]))\n",
    "print(len(cleaned_data[cleaned_data[\"菜品名称\"] == \"全脂牛奶【健康必备！】\"]))"
   ]
  },
  {
   "cell_type": "code",
   "execution_count": null,
   "id": "78dc6d32-b4d1-4faf-832a-0b70a7dcef51",
   "metadata": {},
   "outputs": [],
   "source": [
    "cleaned_data[\"菜品名称\"] = cleaned_data[\"菜品名称\"].replace({\"热橙美式\" : \"热橙美式【满口维C】\"})\n",
    "print(len(cleaned_data[cleaned_data[\"菜品名称\"] == \"热橙美式\"]))"
   ]
  },
  {
   "cell_type": "code",
   "execution_count": null,
   "id": "d7c340e2-dfaf-47a2-a445-d577462704e7",
   "metadata": {},
   "outputs": [],
   "source": [
    "cleaned_data[\"菜品名称\"] = cleaned_data[\"菜品名称\"].replace({\"点新客收藏0.1r送挂耳包\" : \"新客收藏0.1r送挂耳包\"})\n",
    "print(len(cleaned_data[cleaned_data[\"菜品名称\"] == \"点新客收藏0.1r送挂耳包\"]))"
   ]
  },
  {
   "cell_type": "code",
   "execution_count": null,
   "id": "95102b0a-5de5-426b-8896-8a7eb74ab97b",
   "metadata": {},
   "outputs": [],
   "source": [
    "cleaned_data[\"菜品名称\"] = cleaned_data[\"菜品名称\"].replace({\"拿铁咖啡（点开有更多选择哦~）\" : \"意式拿铁咖啡【丝滑浓郁】\",\"意式拿铁咖啡【点开有更多选择！】\" : \"意式拿铁咖啡【丝滑浓郁】\",\"拿铁\" : \"意式拿铁咖啡【丝滑浓郁】\",\"拿铁【丝滑浓郁】\" : \"意式拿铁咖啡【丝滑浓郁】\"})\n",
    "print(len(cleaned_data[cleaned_data[\"菜品名称\"] == \"拿铁咖啡（点开有更多选择哦~）\"]))\n",
    "print(len(cleaned_data[cleaned_data[\"菜品名称\"] == \"意式拿铁咖啡【点开有更多选择！】\"]))\n",
    "print(len(cleaned_data[cleaned_data[\"菜品名称\"] == \"拿铁\"]))\n",
    "print(len(cleaned_data[cleaned_data[\"菜品名称\"] == \"拿铁【丝滑浓郁】\"]))"
   ]
  },
  {
   "cell_type": "markdown",
   "id": "b4a1d39e-b356-4a1a-a957-a827a0f4be9f",
   "metadata": {},
   "source": [
    "##### 再次进行检查"
   ]
  },
  {
   "cell_type": "code",
   "execution_count": null,
   "id": "8e7f4572-f0d3-425d-bf43-b69187f424af",
   "metadata": {},
   "outputs": [],
   "source": [
    "cleaned_data[\"菜品名称\"].value_counts()"
   ]
  },
  {
   "cell_type": "markdown",
   "id": "a2cd83ed-39a8-4fcb-a519-f0d6cefb14a3",
   "metadata": {},
   "source": [
    "##### 将菜品名称的数据类型转换为字符串"
   ]
  },
  {
   "cell_type": "code",
   "execution_count": null,
   "id": "302c7cfd-625d-440c-ad47-2b2ae260499a",
   "metadata": {},
   "outputs": [],
   "source": [
    "cleaned_data[\"菜品名称\"] = cleaned_data[\"菜品名称\"].astype(str)\n",
    "cleaned_data[\"菜品名称\"]"
   ]
  },
  {
   "cell_type": "markdown",
   "id": "6093bad8-ef7f-4e8a-b184-9f3297a7f967",
   "metadata": {},
   "source": [
    "##### 再次检查表格各项数据的数据类型"
   ]
  },
  {
   "cell_type": "code",
   "execution_count": null,
   "id": "124f7543-080d-4288-b2d7-3c50e3afbd88",
   "metadata": {},
   "outputs": [],
   "source": [
    "cleaned_data.info()"
   ]
  },
  {
   "cell_type": "markdown",
   "id": "6fea362e-9470-4d25-ad28-4074d41ad13a",
   "metadata": {},
   "source": [
    "- 发现单个成本/元还需要转换成浮点数\n",
    "- 收入占比需要转换为浮点数后转化为百分比列\n",
    "- 销售金额构成需要更换成浮点数\n",
    "- 退菜率需要更换成浮点数后转化为百分比列"
   ]
  },
  {
   "cell_type": "code",
   "execution_count": null,
   "id": "77ba3ab1-4b85-427f-9d73-d7573568661b",
   "metadata": {},
   "outputs": [],
   "source": [
    "cleaned_data[\"销售金额构成\"] = cleaned_data[\"销售金额构成\"].astype(float)\n",
    "cleaned_data[\"销售金额构成\"]"
   ]
  },
  {
   "cell_type": "code",
   "execution_count": null,
   "id": "306ca82d-2c68-4286-b66c-7986a8b7d488",
   "metadata": {},
   "outputs": [],
   "source": [
    "cleaned_data[\"单个成本/元\"] = cleaned_data[\"单个成本/元\"].astype(float)\n",
    "cleaned_data[\"单个成本/元\"]"
   ]
  },
  {
   "cell_type": "code",
   "execution_count": null,
   "id": "3b0a0eb5-8598-4150-9616-9a0d37c64bbc",
   "metadata": {},
   "outputs": [],
   "source": [
    "total = cleaned_data[\"菜品收入\"].sum()\n",
    "cleaned_data[\"收入占比\"] =  cleaned_data[\"菜品收入\"].apply(lambda x: x/total)"
   ]
  },
  {
   "cell_type": "code",
   "execution_count": null,
   "id": "cb85157c-58cf-4fb2-b420-b5fa4a8b38b1",
   "metadata": {},
   "outputs": [],
   "source": [
    "cleaned_data[\"退菜率\"] =  cleaned_data[\"退菜数量\"] / (cleaned_data[\"销售数量\"] + cleaned_data[\"退菜数量\"])\n",
    "cleaned_data.head(10)"
   ]
  },
  {
   "cell_type": "markdown",
   "id": "006e0409-9d56-4ad4-980e-55adcbf39d4d",
   "metadata": {},
   "source": [
    "#### 保存清理后的数据"
   ]
  },
  {
   "cell_type": "code",
   "execution_count": null,
   "id": "33c6b972-50bf-4470-864e-fa4a5d77a7c4",
   "metadata": {},
   "outputs": [],
   "source": [
    "cleaned_data.head(20)"
   ]
  },
  {
   "cell_type": "code",
   "execution_count": null,
   "id": "6bfa9b88-b1af-4801-adf1-53fb5871e29f",
   "metadata": {},
   "outputs": [],
   "source": [
    "cleaned_data.to_csv(\"美团_3月.csv\",index=False)"
   ]
  },
  {
   "cell_type": "code",
   "execution_count": null,
   "id": "ba261cef-c6b6-4e84-8cfe-a0d55edd38df",
   "metadata": {},
   "outputs": [],
   "source": []
  },
  {
   "cell_type": "code",
   "execution_count": null,
   "id": "0da6cc8f-b0b4-4108-94ae-5b0bb2fefa66",
   "metadata": {},
   "outputs": [],
   "source": []
  }
 ],
 "metadata": {
  "kernelspec": {
   "display_name": "Python 3 (ipykernel)",
   "language": "python",
   "name": "python3"
  },
  "language_info": {
   "codemirror_mode": {
    "name": "ipython",
    "version": 3
   },
   "file_extension": ".py",
   "mimetype": "text/x-python",
   "name": "python",
   "nbconvert_exporter": "python",
   "pygments_lexer": "ipython3",
   "version": "3.12.1"
  }
 },
 "nbformat": 4,
 "nbformat_minor": 5
}
